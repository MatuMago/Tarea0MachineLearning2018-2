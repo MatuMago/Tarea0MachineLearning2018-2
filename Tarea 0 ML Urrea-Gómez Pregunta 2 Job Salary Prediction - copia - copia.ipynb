{
 "cells": [
  {
   "cell_type": "markdown",
   "metadata": {},
   "source": [
    "## 2. Job Salary Prediction"
   ]
  },
  {
   "cell_type": "markdown",
   "metadata": {},
   "source": [
    " \n",
    "<H4 align='center'> Fernanda Urrea, Rol:201551522-0, Matías Gómez, Rol: 201460501-3 \n"
   ]
  },
  {
   "cell_type": "markdown",
   "metadata": {},
   "source": [
    "En esta sección se trabajará con el problema de predecir el salario que ofrece un anuncio en internet a través unicamente del texto del anuncio. El dataset es ofrecido por *Adzuna* como una competencia en la plataforma más grande de *data science* Kaggle, a través del siguiente __[link](https://www.kaggle.com/c/job-salary-prediction)__. El objetivo de la competencia, según *Adzuna*, es el de tener un motor que pueda predecir el salario de cualquier anuncio de trabajo en Reunio Unido, para poder mejorar la experiencia de los usuarios que buscan trabajos, ya que así pueden filtrar sin que el mismo empleador señale explícitamente cuánto paga.\n",
    "\n",
    "<img src=\"http://s5047.pcdn.co/wp-content/uploads/2013/05/salary-prediction-engine-v2.png\" title=\"Title text\" width=\"50%\"/>\n",
    "\n",
    "La métrica de evaluación de la competencia es MAE (*mean absolute error*):\n",
    "\n",
    "$$\n",
    "L = \\frac{1}{N} \\sum_i^N  \\mid y_i - \\hat{y}_i \\mid\n",
    "$$\n",
    "\n",
    "\n",
    "Para descargar los datos a utilizar (*Train_rev1*) debe estar registrado en la plataforma de Kaggle. Se cuenta con cientos de miles registros con textos sin procesar, es decir, no están estructurados."
   ]
  },
  {
   "cell_type": "markdown",
   "metadata": {},
   "source": [
    "#### a) Carge los datos csv de entrenamiento y cree un conjunto de validación con los últimos 10 mil datos en un dataframe de pandas. Describa los datos, apóyese de gráficos ¿Cuántos datos hay en cada conjunto? "
   ]
  },
  {
   "cell_type": "code",
   "execution_count": 1,
   "metadata": {},
   "outputs": [
    {
     "data": {
      "text/html": [
       "<div>\n",
       "<style scoped>\n",
       "    .dataframe tbody tr th:only-of-type {\n",
       "        vertical-align: middle;\n",
       "    }\n",
       "\n",
       "    .dataframe tbody tr th {\n",
       "        vertical-align: top;\n",
       "    }\n",
       "\n",
       "    .dataframe thead th {\n",
       "        text-align: right;\n",
       "    }\n",
       "</style>\n",
       "<table border=\"1\" class=\"dataframe\">\n",
       "  <thead>\n",
       "    <tr style=\"text-align: right;\">\n",
       "      <th></th>\n",
       "      <th>Id</th>\n",
       "      <th>Title</th>\n",
       "      <th>FullDescription</th>\n",
       "      <th>LocationRaw</th>\n",
       "      <th>LocationNormalized</th>\n",
       "      <th>ContractType</th>\n",
       "      <th>ContractTime</th>\n",
       "      <th>Company</th>\n",
       "      <th>Category</th>\n",
       "      <th>SalaryRaw</th>\n",
       "      <th>SalaryNormalized</th>\n",
       "      <th>SourceName</th>\n",
       "    </tr>\n",
       "  </thead>\n",
       "  <tbody>\n",
       "    <tr>\n",
       "      <th>0</th>\n",
       "      <td>12612628</td>\n",
       "      <td>Engineering Systems Analyst</td>\n",
       "      <td>Engineering Systems Analyst Dorking Surrey Sal...</td>\n",
       "      <td>Dorking, Surrey, Surrey</td>\n",
       "      <td>Dorking</td>\n",
       "      <td>NaN</td>\n",
       "      <td>permanent</td>\n",
       "      <td>Gregory Martin International</td>\n",
       "      <td>Engineering Jobs</td>\n",
       "      <td>20000 - 30000/annum 20-30K</td>\n",
       "      <td>25000</td>\n",
       "      <td>cv-library.co.uk</td>\n",
       "    </tr>\n",
       "    <tr>\n",
       "      <th>1</th>\n",
       "      <td>12612830</td>\n",
       "      <td>Stress Engineer Glasgow</td>\n",
       "      <td>Stress Engineer Glasgow Salary **** to **** We...</td>\n",
       "      <td>Glasgow, Scotland, Scotland</td>\n",
       "      <td>Glasgow</td>\n",
       "      <td>NaN</td>\n",
       "      <td>permanent</td>\n",
       "      <td>Gregory Martin International</td>\n",
       "      <td>Engineering Jobs</td>\n",
       "      <td>25000 - 35000/annum 25-35K</td>\n",
       "      <td>30000</td>\n",
       "      <td>cv-library.co.uk</td>\n",
       "    </tr>\n",
       "    <tr>\n",
       "      <th>2</th>\n",
       "      <td>12612844</td>\n",
       "      <td>Modelling and simulation analyst</td>\n",
       "      <td>Mathematical Modeller / Simulation Analyst / O...</td>\n",
       "      <td>Hampshire, South East, South East</td>\n",
       "      <td>Hampshire</td>\n",
       "      <td>NaN</td>\n",
       "      <td>permanent</td>\n",
       "      <td>Gregory Martin International</td>\n",
       "      <td>Engineering Jobs</td>\n",
       "      <td>20000 - 40000/annum 20-40K</td>\n",
       "      <td>30000</td>\n",
       "      <td>cv-library.co.uk</td>\n",
       "    </tr>\n",
       "    <tr>\n",
       "      <th>3</th>\n",
       "      <td>12613049</td>\n",
       "      <td>Engineering Systems Analyst / Mathematical Mod...</td>\n",
       "      <td>Engineering Systems Analyst / Mathematical Mod...</td>\n",
       "      <td>Surrey, South East, South East</td>\n",
       "      <td>Surrey</td>\n",
       "      <td>NaN</td>\n",
       "      <td>permanent</td>\n",
       "      <td>Gregory Martin International</td>\n",
       "      <td>Engineering Jobs</td>\n",
       "      <td>25000 - 30000/annum 25K-30K negotiable</td>\n",
       "      <td>27500</td>\n",
       "      <td>cv-library.co.uk</td>\n",
       "    </tr>\n",
       "    <tr>\n",
       "      <th>4</th>\n",
       "      <td>12613647</td>\n",
       "      <td>Pioneer, Miser Engineering Systems Analyst</td>\n",
       "      <td>Pioneer, Miser  Engineering Systems Analyst Do...</td>\n",
       "      <td>Surrey, South East, South East</td>\n",
       "      <td>Surrey</td>\n",
       "      <td>NaN</td>\n",
       "      <td>permanent</td>\n",
       "      <td>Gregory Martin International</td>\n",
       "      <td>Engineering Jobs</td>\n",
       "      <td>20000 - 30000/annum 20-30K</td>\n",
       "      <td>25000</td>\n",
       "      <td>cv-library.co.uk</td>\n",
       "    </tr>\n",
       "  </tbody>\n",
       "</table>\n",
       "</div>"
      ],
      "text/plain": [
       "         Id                                              Title  \\\n",
       "0  12612628                        Engineering Systems Analyst   \n",
       "1  12612830                            Stress Engineer Glasgow   \n",
       "2  12612844                   Modelling and simulation analyst   \n",
       "3  12613049  Engineering Systems Analyst / Mathematical Mod...   \n",
       "4  12613647         Pioneer, Miser Engineering Systems Analyst   \n",
       "\n",
       "                                     FullDescription  \\\n",
       "0  Engineering Systems Analyst Dorking Surrey Sal...   \n",
       "1  Stress Engineer Glasgow Salary **** to **** We...   \n",
       "2  Mathematical Modeller / Simulation Analyst / O...   \n",
       "3  Engineering Systems Analyst / Mathematical Mod...   \n",
       "4  Pioneer, Miser  Engineering Systems Analyst Do...   \n",
       "\n",
       "                         LocationRaw LocationNormalized ContractType  \\\n",
       "0            Dorking, Surrey, Surrey            Dorking          NaN   \n",
       "1        Glasgow, Scotland, Scotland            Glasgow          NaN   \n",
       "2  Hampshire, South East, South East          Hampshire          NaN   \n",
       "3     Surrey, South East, South East             Surrey          NaN   \n",
       "4     Surrey, South East, South East             Surrey          NaN   \n",
       "\n",
       "  ContractTime                       Company          Category  \\\n",
       "0    permanent  Gregory Martin International  Engineering Jobs   \n",
       "1    permanent  Gregory Martin International  Engineering Jobs   \n",
       "2    permanent  Gregory Martin International  Engineering Jobs   \n",
       "3    permanent  Gregory Martin International  Engineering Jobs   \n",
       "4    permanent  Gregory Martin International  Engineering Jobs   \n",
       "\n",
       "                                SalaryRaw  SalaryNormalized        SourceName  \n",
       "0              20000 - 30000/annum 20-30K             25000  cv-library.co.uk  \n",
       "1              25000 - 35000/annum 25-35K             30000  cv-library.co.uk  \n",
       "2              20000 - 40000/annum 20-40K             30000  cv-library.co.uk  \n",
       "3  25000 - 30000/annum 25K-30K negotiable             27500  cv-library.co.uk  \n",
       "4              20000 - 30000/annum 20-30K             25000  cv-library.co.uk  "
      ]
     },
     "execution_count": 1,
     "metadata": {},
     "output_type": "execute_result"
    }
   ],
   "source": [
    "import pandas as pd\n",
    "df = pd.read_csv(\"Train_rev1.csv\")\n",
    "df_train = df.iloc[:-10000]#Conjunto entrenamiento, todos los datos salvo los ultimos 10000\n",
    "df_val = df.iloc[-10000:]#Ultimos 10000 datos\n",
    "df.head()"
   ]
  },
  {
   "cell_type": "markdown",
   "metadata": {},
   "source": [
    "En el dataset se informan 12 características diferentes de cada una de las casas registradas en él. Estas son:\n",
    "  \n",
    "id: Identificador numérico para un anuncio.  \n",
    "Title: Título del anuncio.  \n",
    "FullDescription: Descripcion completa del anuncio.  \n",
    "LocationRaw: Lugar detallado en el que se realizará el trabajo.  \n",
    "LocationNormalized: Ciudad en la que se realizará el trabajo.  \n",
    "ContractType: Tipo de contrato.  \n",
    "ContractTime: Tiempo de contrato  \n",
    "Company: Empresa que solicita el trabajo.  \n",
    "Category: Categoria del trabajo asignada automaticamente por adzuna.  \n",
    "SalaryRaw: Rango del salario.  \n",
    "SalaryNormalized: Media de salario.  \n"
   ]
  },
  {
   "cell_type": "code",
   "execution_count": 2,
   "metadata": {},
   "outputs": [
    {
     "data": {
      "text/plain": [
       "Index(['Id', 'Title', 'FullDescription', 'LocationRaw', 'LocationNormalized',\n",
       "       'ContractType', 'ContractTime', 'Company', 'Category', 'SalaryRaw',\n",
       "       'SalaryNormalized', 'SourceName'],\n",
       "      dtype='object')"
      ]
     },
     "execution_count": 2,
     "metadata": {},
     "output_type": "execute_result"
    }
   ],
   "source": [
    "df.columns"
   ]
  },
  {
   "cell_type": "code",
   "execution_count": 3,
   "metadata": {},
   "outputs": [
    {
     "data": {
      "text/plain": [
       "(244768, 12)"
      ]
     },
     "execution_count": 3,
     "metadata": {},
     "output_type": "execute_result"
    }
   ],
   "source": [
    "df.shape"
   ]
  },
  {
   "cell_type": "markdown",
   "metadata": {},
   "source": [
    "El dataset contiene 244.768 registros distintos y 12 columnas que corresponden a los atributos."
   ]
  },
  {
   "cell_type": "code",
   "execution_count": 4,
   "metadata": {},
   "outputs": [
    {
     "name": "stdout",
     "output_type": "stream",
     "text": [
      "<class 'pandas.core.frame.DataFrame'>\n",
      "RangeIndex: 244768 entries, 0 to 244767\n",
      "Data columns (total 12 columns):\n",
      "Id                    244768 non-null int64\n",
      "Title                 244767 non-null object\n",
      "FullDescription       244768 non-null object\n",
      "LocationRaw           244768 non-null object\n",
      "LocationNormalized    244768 non-null object\n",
      "ContractType          65442 non-null object\n",
      "ContractTime          180863 non-null object\n",
      "Company               212338 non-null object\n",
      "Category              244768 non-null object\n",
      "SalaryRaw             244768 non-null object\n",
      "SalaryNormalized      244768 non-null int64\n",
      "SourceName            244767 non-null object\n",
      "dtypes: int64(2), object(10)\n",
      "memory usage: 22.4+ MB\n"
     ]
    }
   ],
   "source": [
    "df.info()"
   ]
  },
  {
   "cell_type": "markdown",
   "metadata": {},
   "source": [
    "Se muestra el resumen del dataframe 'df', en el cual no existen registros nulos para ninguna de las 12 características.\n",
    "Además se informa el tipo de dato que presenta cada una de los atributos, destacando que la mayoría de ellos (10) son de texto y solo 2 numéricos"
   ]
  },
  {
   "cell_type": "code",
   "execution_count": 5,
   "metadata": {},
   "outputs": [
    {
     "data": {
      "text/plain": [
       "count    244768.000000\n",
       "mean      34122.577576\n",
       "std       17640.543124\n",
       "min        5000.000000\n",
       "25%       21500.000000\n",
       "50%       30000.000000\n",
       "75%       42500.000000\n",
       "max      200000.000000\n",
       "Name: SalaryNormalized, dtype: float64"
      ]
     },
     "execution_count": 5,
     "metadata": {},
     "output_type": "execute_result"
    }
   ],
   "source": [
    "df.SalaryNormalized.describe()"
   ]
  },
  {
   "cell_type": "markdown",
   "metadata": {},
   "source": [
    "El método describe genera estadísticas descriptivas del dataframe en cuestión.  \n",
    "Se informa el valor promedio, dispersión y la forma de la distribución de los datos según atributo (excluyendo los valores de NaN)."
   ]
  },
  {
   "cell_type": "code",
   "execution_count": 6,
   "metadata": {},
   "outputs": [
    {
     "name": "stdout",
     "output_type": "stream",
     "text": [
      "<class 'pandas.core.frame.DataFrame'>\n",
      "RangeIndex: 234768 entries, 0 to 234767\n",
      "Data columns (total 12 columns):\n",
      "Id                    234768 non-null int64\n",
      "Title                 234767 non-null object\n",
      "FullDescription       234768 non-null object\n",
      "LocationRaw           234768 non-null object\n",
      "LocationNormalized    234768 non-null object\n",
      "ContractType          62961 non-null object\n",
      "ContractTime          172816 non-null object\n",
      "Company               203031 non-null object\n",
      "Category              234768 non-null object\n",
      "SalaryRaw             234768 non-null object\n",
      "SalaryNormalized      234768 non-null int64\n",
      "SourceName            234767 non-null object\n",
      "dtypes: int64(2), object(10)\n",
      "memory usage: 21.5+ MB\n"
     ]
    }
   ],
   "source": [
    "df_train.info() #Información del conjunto de entrenamiento"
   ]
  },
  {
   "cell_type": "code",
   "execution_count": 8,
   "metadata": {},
   "outputs": [
    {
     "name": "stdout",
     "output_type": "stream",
     "text": [
      "<class 'pandas.core.frame.DataFrame'>\n",
      "RangeIndex: 10000 entries, 234768 to 244767\n",
      "Data columns (total 12 columns):\n",
      "Id                    10000 non-null int64\n",
      "Title                 10000 non-null object\n",
      "FullDescription       10000 non-null object\n",
      "LocationRaw           10000 non-null object\n",
      "LocationNormalized    10000 non-null object\n",
      "ContractType          2481 non-null object\n",
      "ContractTime          8047 non-null object\n",
      "Company               9307 non-null object\n",
      "Category              10000 non-null object\n",
      "SalaryRaw             10000 non-null object\n",
      "SalaryNormalized      10000 non-null int64\n",
      "SourceName            10000 non-null object\n",
      "dtypes: int64(2), object(10)\n",
      "memory usage: 937.6+ KB\n"
     ]
    }
   ],
   "source": [
    "df_val.info() #Información del conjunto de validación"
   ]
  },
  {
   "cell_type": "markdown",
   "metadata": {},
   "source": [
    "#### b) Extraiga los datos de cada conjunto con los que trabajará, el *input* $X$, los textos, y el *output* $y$, los salarios."
   ]
  },
  {
   "cell_type": "code",
   "execution_count": 7,
   "metadata": {
    "scrolled": true
   },
   "outputs": [
    {
     "name": "stdout",
     "output_type": "stream",
     "text": [
      "INPUT NUMERO  1 \n",
      "TEXTO: \n",
      " Stress Engineer Glasgow Salary **** to **** We re currently looking for talented engineers to join our growing Glasgow team at a variety of levels. The roles are ideally suited to high calibre engineering graduates with any level of appropriate experience, so that we can give you the opportunity to use your technical skills to provide high quality input to our aerospace projects, spanning both aerostructures and aeroengines. In return, you can expect good career opportunities and the chance for advancement and personal and professional development, support while you gain Chartership and some opportunities to possibly travel or work in other offices, in or outside of the UK. The Requirements You will need to have a good engineering degree that includes structural analysis (such as aeronautical, mechanical, automotive, civil) with some experience in a professional engineering environment relevant to (but not limited to) the aerospace sector. You will need to demonstrate experience in at least one or more of the following areas: Structural/stress analysis Composite stress analysis (any industry) Linear and nonlinear finite element analysis Fatigue and damage tolerance Structural dynamics Thermal analysis Aerostructures experience You will also be expected to demonstrate the following qualities: A strong desire to progress quickly to a position of leadership Professional approach Strong communication skills, written and verbal Commercial awareness Team working, being comfortable working in international teams and self managing PLEASE NOTE SECURITY CLEARANCE IS REQUIRED FOR THIS ROLE Stress Engineer Glasgow Salary **** to **** \n",
      " OUTPUT NUMERO  1 \n",
      " SALARIO:  30000 \n",
      " \n",
      " \n",
      "\n",
      "INPUT NUMERO  2 \n",
      "TEXTO: \n",
      " Mathematical Modeller / Simulation Analyst / Operational Analyst Basingstoke, Hampshire Up to ****K AAE pension contribution, private medical and dental The opportunity Our client is an independent consultancy firm which has an opportunity for a Data Analyst with 35 years experience. The role will require the successful candidate to demonstrate their ability to analyse a problem and arrive at a solution, with varying levels of data being available. Essential skills Thorough knowledge of Excel and proven ability to utilise this to create powerful decision support models Experience in Modelling and Simulation Techniques, Experience of techniques such as Discrete Event Simulation and/or SD modelling Mathematical/scientific background  minimum degree qualified Proven analytical and problem solving skills Self Starter Ability to develop solid working relationships In addition to formal qualifications and experience, the successful candidate will require excellent written and verbal communication skills, be energetic, enterprising and have a determination to succeed. They will be required to build solid working relationships, both internally with colleagues and, most importantly, externally with our clients. They must be comfortable working independently to deliver against challenging client demands. The offices are located in Basingstoke, Hampshire, but our client work for clients worldwide. The successful candidate must therefore be prepared to undertake work at client sites for short periods of time. Physics, Mathematics, Modelling, Simulation, Analytical, Operational Research, Mathematical Modelling Mathematical Modeller / Simulation Analyst / Operational Analyst Basingstoke, Hampshire ****K AAE pension contribution, private medical and dental \n",
      " OUTPUT NUMERO  2 \n",
      " SALARIO:  30000 \n",
      " \n",
      " \n",
      "\n",
      "INPUT NUMERO  3 \n",
      "TEXTO: \n",
      " Engineering Systems Analyst / Mathematical Modeller. Our client is a highly successful and respected Consultancy providing specialist software development MISER, PIONEER, Maths, Mathematical, Optimisation, Risk Analysis, Asset Management, Water Industry, Access, Excel, VBA, SQL, Systems . Engineering Systems Analyst / Mathematical Modeller. Salary  ****K****K negotiable Location Dorking, Surrey \n",
      " OUTPUT NUMERO  3 \n",
      " SALARIO:  27500 \n",
      " \n",
      " \n",
      "\n",
      "INPUT NUMERO  4 \n",
      "TEXTO: \n",
      " Pioneer, Miser  Engineering Systems Analyst Dorking  Surrey Salary ****K Located in Surrey, our client provides specialist software development Pioneer, Miser  Engineering Systems Analyst Dorking  Surrey Salary ****K \n",
      " OUTPUT NUMERO  4 \n",
      " SALARIO:  25000 \n",
      " \n",
      " \n",
      "\n",
      "INPUT NUMERO  5 \n",
      "TEXTO: \n",
      " Engineering Systems Analyst Water Industry Location: Dorking Surrey Salary: **** to **** Located in Surrey, our client provides specialist software development Systems Analysis and Software Engineering. The projects cover a wide variety of topics typically working in small teams. Our client can offer you Intellectually challenging work undertaken within a supportive environment where personal development is nurtured and rewarded. This role will be working within a small team working on the modelling of water industry asset deterioration and asset failure consequences, including the uploading of these models onto industryleading optimal asset management software Strong maths, stats and IT skills needed, Any previous experience within the Water industry would be an advantage. Candidate requirements Candidates should have a good honours degree in a numerate discipline i.e. Engineering; Mathematics; Science; Computing/Software. Candidates need to be highly qualified within Physics, Mathematics or Engineering discipline ideally First Class Degree, or **** PhD or Masters, MEng. Candidates should ideally should have a background in Technical Consultancy; Systems Analysis; Software Engineering or a Graduate level looking to develop their career. Any experience of Pioneer or Miser software would be an advantage. Key areas: Mathematical modelling, leakage management, optimisation. risk analysis. Physics, Mathematics, Engineering Engineering; Mathematics; Science; Computing/Software Pioneer or Miser Engineering Systems Analyst Water Industry Location: Dorking, Surrey Salary **** to **** \n",
      " OUTPUT NUMERO  5 \n",
      " SALARIO:  25000 \n",
      " \n",
      " \n",
      "\n",
      "INPUT NUMERO  6 \n",
      "TEXTO: \n",
      " A globally renowned engineering and training company in the Oil Develop and manage both internal and external inspection plans and plan remedial and preventative maintenance work Implement, apply and update pipeline databases and spreadsheets and assist operators with projects, including project management, assurance support and procedure reviews Handle consulting, problem solving, risk assessments and presentations Be responsible for technical representation offshore Prepare proposals and tenders for clients and write reports and specifications. You will offer analysis using various types of software such as MathCAD, ABAQUS, Olga or Orcaflex. You will also present the company s technical courses and handle project management and sales and customer relationship management. For this role, you must have a minimum of 10 years experience in subsea engineering, pipelines design or construction. Background in controls, corrosion, decommissioning or structures would be an advantage. A degree in Engineering, Aeronautics, Naval Architecture, Maths, or Physics, preferably with honours is essential for this role. A full clean driving license is also required. If you are a Subsea Engineering professional with excellent design/construction skills and exposure to the Oil & Gas/Subsea Engineering industry, we would love to hear from you. Send in your CV now \n",
      " OUTPUT NUMERO  6 \n",
      " SALARIO:  75000 \n",
      " \n",
      " \n",
      "\n",
      "INPUT NUMERO  7 \n",
      "TEXTO: \n",
      " THIS IS A LIVE VACANCY NOT A GENERIC ADVERTISEMENT ) DO YOU WANT TO EARN UP TO ****K BASIC SALARY WITH UNCAPPED OTE, FOR A NATIONAL RECRUITER WHO ARE EXPANDING, RECRUITING AND CAN OFFER YOU JOB SECURITY ? ARE YOU AN EXPERIENCED RECRUITMENT CONSULTANT, SALES OR BUSINESS DEVELOPMENT EXECUTIVE? WHO WANTS INNOVATIVE TRAINING, GENUINE CAREER PROSPECTS WHERE ****5% OF THE MANAGEMENT TEAM ARE HOME GROWN, DYNAMIC WORKING ENVIRONMENT  BASED IN MANCHESTER(ONE OF THE TOP PERFORMING LOCATIONS IN THE UK) AND EXCELLENT EARNING POTENTIAL  UP TO 30% COMMISSION FOR ACHIEVERS Job details: Generating business for one of my clients **** specialist divisions across **** branches in the UK. Access to all the leading websites for candidate and job opportunities, over ****k annual investment why make the job harder? Full and comprehensive Administration and IT back up for every Consultant Working established bespoke database to generate opportunities with both existing and new clients. Inter division cross fertilisation, working closely with 8 professional divisions providing clients with the complete recruitment solution Corporate and HO support for national business/tenders and PSL s. Managing own desk to achieve daily, weekly and monthly targets. Person: Energy and desire to succeed, with a competitive streak that wants to beat the competition. Professional personal appearance with the ability to build sustainable business relationships. Positive mental attitude. Able to demonstrate working to and exceeding targets. Career focussed, good listening skills and a natural confidence. Naturally positive and looking for the opportunity to work for a national player who are committed to your success Recruitment experience or 2 years business to business sales experience required. Benefits: ****k  ****K basic  benefits Pension scheme. Uncapped OTE Innovative award winning training academy. Genuine career opportunities. Incentives, awards and excellent team building UK wide. IF YOU FEEL YOU HAVE THE ENERGY AND DRIVE TO SUCCEED IN A FAST PACED, DYNAMIC SALES ENVIRONMENT WITH REWARDS THEN CALL OR EMAIL FRO AN INFORMAL AND DISCREET DISCUSSION. PLEASE NOTE YOUR CV WILL NOT BE FORWARDED TO MY CLIENT WITHOUT YOUR WRITTEN AUTHORISATION. Code Blue Recruitment handle nearly **** LIVE VACANCIES, for all sectors and levels of the Recruitment industry across the whole of the UK . Positions include Junior and Trainee Consultants, Recruitment and Senior Recruitment Consultants, Team Leaders, Account Managers, Branch Managers, Sales Managers & Directors. Sectors covered include Professional Recruitment such as Finance, Accountancy & Banking, Legal & HR, Commercial markets such as Office Support, Industrial, Driving, Hospitality & Catering, the Public Sector including Medical, Care, Education, Technical markets such as I.T., Telecoms, Media, Construction, Engineering, Energy & Environment, and Pharmaceutical, as well as diverse areas such as Sales Recruitment, Search, and Supply Chain \n",
      " OUTPUT NUMERO  7 \n",
      " SALARIO:  22000 \n",
      " \n",
      " \n",
      "\n"
     ]
    }
   ],
   "source": [
    "text = df.FullDescription\n",
    "salary = df.SalaryNormalized\n",
    "\n",
    "#Extraen input y output del conjunto de entrenamiento\n",
    "text_train = df_train.FullDescription\n",
    "salary_train = df_train.SalaryNormalized\n",
    "\n",
    "\n",
    "#Extraen input y output del conjunto de validación\n",
    "text_val = df_val.FullDescription\n",
    "salary_val = df_val.SalaryNormalized\n",
    "\n",
    "#Algunos ejemplos\n",
    "id = df.Id\n",
    "for i in {1,2,3,4,5,6,7}:\n",
    "    print (\"INPUT NUMERO \", i, \"\\nTEXTO: \\n\", text[i], \"\\n OUTPUT NUMERO \", i, \"\\n SALARIO: \", salary[i], \"\\n \\n \\n\")\n"
   ]
  },
  {
   "cell_type": "markdown",
   "metadata": {},
   "source": [
    "#### c) Realice un pre-procesamiento a los datos brutos de texto para extraer características y generar la representación de los datos de entrada al modelo $\\vec{x}$. Comente sobre lo realizado."
   ]
  },
  {
   "cell_type": "code",
   "execution_count": 9,
   "metadata": {},
   "outputs": [
    {
     "data": {
      "text/plain": [
       "0         Engineering Systems Analyst Dorking Surrey Sal...\n",
       "1         Stress Engineer Glasgow Salary **** to **** We...\n",
       "2         Mathematical Modeller / Simulation Analyst / O...\n",
       "3         Engineering Systems Analyst / Mathematical Mod...\n",
       "4         Pioneer, Miser  Engineering Systems Analyst Do...\n",
       "5         Engineering Systems Analyst Water Industry Loc...\n",
       "6         A globally renowned engineering and training c...\n",
       "7         THIS IS A LIVE VACANCY NOT A GENERIC ADVERTISE...\n",
       "8         This is an exceptional opportunity to join a c...\n",
       "9         A subsea engineering company is looking for an...\n",
       "10        Are you a successful, results driven person? A...\n",
       "11        PROJECT ENGINEER PHAMACEUTICAL, c****  Excelle...\n",
       "12        Aerospace Senior Composite Structures Engineer...\n",
       "13        Senior Fatigue Static stress (metallic or comp...\n",
       "14        A well respected restaurant located in the Der...\n",
       "15        Our client are a leading supplier of precision...\n",
       "16        A leading Subsea Engineering Company require a...\n",
       "17        A popular hotel located in Norfolk which is a ...\n",
       "18        Senior Fatigue Static stress (metallic or comp...\n",
       "19        We are currently recruiting on behalf of our c...\n",
       "20        Lead Engineers (Stress) Our client provide hig...\n",
       "21         HOTEL AND CONFERENCE VENUE CHAIN  RELIEF CHEF...\n",
       "22        Senior Control and Instrumentation Engineer . ...\n",
       "23        Control and Instrumentation Engineer / C Readi...\n",
       "24        Electrical / ICA Engineer Industry: Environmen...\n",
       "25        Pastry Chef for **** red star **** rosette hot...\n",
       "26        Senior Process Engineer We are seeking applica...\n",
       "27        CHEF DE PARTIE POSITION IN **** ROSETTE HOTEL ...\n",
       "28        Senior Sous Chef for **** rosette kitchen, up ...\n",
       "29        Senior General Manager – Funky, Cool, Casual R...\n",
       "                                ...                        \n",
       "234738    FULL TIME PERMANENT POSITION Our client, a wel...\n",
       "234739    Business Development Manager  Leading Financia...\n",
       "234740    International Manufacturing Company require As...\n",
       "234741    Do you possess a confident telephone manner? A...\n",
       "234742    Senior Fund Accountant, Life Funds, Tax  Edinb...\n",
       "234743    Do you have customer service experience? Are y...\n",
       "234744    Due to continued success our Glasgow city cent...\n",
       "234745    My client, a well established charitable organ...\n",
       "234746    The Role Our London based client, an Insurance...\n",
       "234747    Property Underwriter Must have up to date Prop...\n",
       "234748    Insurance Risk Management Advisor to ****  exc...\n",
       "234749    Team Manager ****  **** dependant on experienc...\n",
       "234750    An exciting opportunity has arisen for an expe...\n",
       "234751    An experienced Accounts Assistant is sought to...\n",
       "234752    UNDERSTANDING, SERVICE, TRUST **** Words that ...\n",
       "234753    Sellick Partenrship are currently recruiting o...\n",
       "234754    Transparent are recruiting on behalf of a larg...\n",
       "234755    Transparent are recruiting on behalf of a well...\n",
       "234756    Transparent is recruiting on behalf of a large...\n",
       "234757    UNDERSTANDING, SERVICE, TRUST 3 Words that Gua...\n",
       "234758    My client a fantastic insurance organisation b...\n",
       "234759    An excellent opportunity has arisen to work fo...\n",
       "234760    Regional Senior Technical Underwriter, Bristol...\n",
       "234761    Excellent Opportunity Available Credit Control...\n",
       "234762    Rural Practice with a reputation for excellenc...\n",
       "234763    Our client in central Nottingham is looking to...\n",
       "234764    The Role Our client is looking for an experien...\n",
       "234765    Part time Accounts Assistant Leeds ****K ****K...\n",
       "234766    Spring Personnel are currently recruiting for ...\n",
       "234767    Job Title: Portfolio Accountant Salary: **** J...\n",
       "Name: FullDescription, Length: 234768, dtype: object"
      ]
     },
     "execution_count": 9,
     "metadata": {},
     "output_type": "execute_result"
    }
   ],
   "source": [
    "text_train"
   ]
  },
  {
   "cell_type": "code",
   "execution_count": 8,
   "metadata": {},
   "outputs": [
    {
     "data": {
      "text/plain": [
       "234768    Our Heathrow based client is urgently looking ...\n",
       "234769    Production Planner Due to the rural location o...\n",
       "234770    Temporary Assistant Accountant (****6 Months) ...\n",
       "234771    Excellent Opportunity Available Commercial Ins...\n",
       "234772    Title: Debt Management Team Leader My client i...\n",
       "234773    Adecco are currently working in partnership wi...\n",
       "234774    Expenses Administrator Godalming ****  benefit...\n",
       "234775    My client is a true market leader within the s...\n",
       "234776    Our client, a city based Lloyd s broker, is lo...\n",
       "234777    Finance Assistant  Cash Book Salary Range  ***...\n",
       "234778    Job title: OnLine Sales Manager / Call Centre ...\n",
       "234779    FINANCE  ACCOUNTING OFFICER Central Delivery U...\n",
       "234780    The Role Our clients, a Property and Investmen...\n",
       "234781    Assisting in the production of monthly managem...\n",
       "234782    Part Qualified  ACCA/CIMA or AAT Qualified is ...\n",
       "234783    Secretary / Book keeper Shenley , near Radlett...\n",
       "234784    Organisation Description: A well established a...\n",
       "234785    Capita plc is theUK s leading business process...\n",
       "234786    Our client, a leading global banking organisat...\n",
       "234787    Bracknell Print Room Ltd Job Description/Perso...\n",
       "234788    My client a company working within Insurance M...\n",
       "234789    An experienced Account Executive is required f...\n",
       "234790    Credit Controller fluent German, Italian s. Re...\n",
       "234791    Looking for Confident, Enthusiastic individual...\n",
       "234792    Senior Design Engineer  Engineering West Midla...\n",
       "234793    Andy File Associates Limited are working on be...\n",
       "234794    ABOUT THE CLIENT: My client is a well establis...\n",
       "234795    General Sales Manager (Motor Trade  Main Car D...\n",
       "234796    MUST HAVE PREVIOUS EXPERIENCE IN A FRANCHISE D...\n",
       "234797    Our client, a multi franchised, multi site dea...\n",
       "                                ...                        \n",
       "244738    NEED PAYROLLERS WITH ESR WHO HAVE WORKED AT PR...\n",
       "244739    Commercial Account Manager Role An opportunity...\n",
       "244740    At DMC Healthcare we believe the delivery of e...\n",
       "244741    My retail client are currently recruiting for ...\n",
       "244742    LEGAL CASHIER JOB. A top Legal firm based in C...\n",
       "244743    A prestigious chambers (Law firm) in the City ...\n",
       "244744    Are you an experienced senior business travel ...\n",
       "244745    Full and parttime opportunities available With...\n",
       "244746    Salaried GP needed in Essex, 4 days per week. ...\n",
       "244747    Are you a Travel Consultant who is truly passi...\n",
       "244748    Travel Consultants, we have an amazing opportu...\n",
       "244749    PERSONAL TRAVEL EXPERT Location  Birmingham Sa...\n",
       "244750    Are you an experienced Senior Business Travel ...\n",
       "244751    A vibrant charitable institute based in Kensin...\n",
       "244752    Curriculum Leader Mathematics TLR 1 **** Requi...\n",
       "244753    Position: Qualified Teacher Subject/Specialism...\n",
       "244754    Marketing Officer Job Use a broad range of Mar...\n",
       "244755    Position: Qualified Teacher Subject/Specialism...\n",
       "244756    Position: Cover Supervisor Subject/Specialism:...\n",
       "244757    Position: Qualified Teacher Subject/Specialism...\n",
       "244758    Position: Qualified Teacher Subject/Specialism...\n",
       "244759    Position: Qualified Teacher Subject/Specialism...\n",
       "244760    Position: Teacher Subject/Specialism: History ...\n",
       "244761    Position: Qualified Teacher Subject/Specialism...\n",
       "244762    Position: Qualified Teacher Subject/Specialism...\n",
       "244763    Position: Qualified Teacher Subject/Specialism...\n",
       "244764    Position: Qualified Teacher or NQT Subject/Spe...\n",
       "244765    Position: Qualified Teacher Subject/Specialism...\n",
       "244766    Position: Qualified Teacher Subject/Specialism...\n",
       "244767    This entrepreneurial and growing private equit...\n",
       "Name: FullDescription, Length: 10000, dtype: object"
      ]
     },
     "execution_count": 8,
     "metadata": {},
     "output_type": "execute_result"
    }
   ],
   "source": [
    "text_val"
   ]
  },
  {
   "cell_type": "markdown",
   "metadata": {},
   "source": [
    "Como el conjunto de entrenamiento es muy extenso, para el preprocesamiento de los datos, se genera un conjunto de entrenamiento más pequeño.\n"
   ]
  },
  {
   "cell_type": "code",
   "execution_count": 10,
   "metadata": {},
   "outputs": [],
   "source": [
    "df_train = df.iloc[:-224267] #Nuevo conjunto de entrenamiento\n",
    "df_val = df.iloc[-500:] #Nuevo conjunto de validación\n",
    "text_train = df_train.FullDescription\n",
    "salary_train = df_train.SalaryNormalized\n",
    "text_val = df_val.FullDescription\n",
    "salary_val = df_val.SalaryNormalized"
   ]
  },
  {
   "cell_type": "code",
   "execution_count": 63,
   "metadata": {},
   "outputs": [
    {
     "data": {
      "text/plain": [
       "0        Engineering Systems Analyst Dorking Surrey Sal...\n",
       "1        Stress Engineer Glasgow Salary **** to **** We...\n",
       "2        Mathematical Modeller / Simulation Analyst / O...\n",
       "3        Engineering Systems Analyst / Mathematical Mod...\n",
       "4        Pioneer, Miser  Engineering Systems Analyst Do...\n",
       "5        Engineering Systems Analyst Water Industry Loc...\n",
       "6        A globally renowned engineering and training c...\n",
       "7        THIS IS A LIVE VACANCY NOT A GENERIC ADVERTISE...\n",
       "8        This is an exceptional opportunity to join a c...\n",
       "9        A subsea engineering company is looking for an...\n",
       "10       Are you a successful, results driven person? A...\n",
       "11       PROJECT ENGINEER PHAMACEUTICAL, c****  Excelle...\n",
       "12       Aerospace Senior Composite Structures Engineer...\n",
       "13       Senior Fatigue Static stress (metallic or comp...\n",
       "14       A well respected restaurant located in the Der...\n",
       "15       Our client are a leading supplier of precision...\n",
       "16       A leading Subsea Engineering Company require a...\n",
       "17       A popular hotel located in Norfolk which is a ...\n",
       "18       Senior Fatigue Static stress (metallic or comp...\n",
       "19       We are currently recruiting on behalf of our c...\n",
       "20       Lead Engineers (Stress) Our client provide hig...\n",
       "21        HOTEL AND CONFERENCE VENUE CHAIN  RELIEF CHEF...\n",
       "22       Senior Control and Instrumentation Engineer . ...\n",
       "23       Control and Instrumentation Engineer / C Readi...\n",
       "24       Electrical / ICA Engineer Industry: Environmen...\n",
       "25       Pastry Chef for **** red star **** rosette hot...\n",
       "26       Senior Process Engineer We are seeking applica...\n",
       "27       CHEF DE PARTIE POSITION IN **** ROSETTE HOTEL ...\n",
       "28       Senior Sous Chef for **** rosette kitchen, up ...\n",
       "29       Senior General Manager – Funky, Cool, Casual R...\n",
       "                               ...                        \n",
       "20471    Housing Worker 20 hours per week Salary: **** ...\n",
       "20472    Nursing Home Manager Midlothian Salary  Circa ...\n",
       "20473    JOB PROFILE: FM HELPDESK SPECIALIST MAIN PURPO...\n",
       "20474    Product Sales Manager  Farnborough  To ****K B...\n",
       "20475    PHP Web Developer  South Birmingham  **** An o...\n",
       "20476    JUNIOR M&E PROJECT ENGINEER, ASHFORD, KENT  c*...\n",
       "20477    This is a stunning opportunity for an inspirat...\n",
       "20478    We are now recruiting an experienced Operation...\n",
       "20479    Part Time Mortgage Advisor Watford ****  **** ...\n",
       "20480    Head of Business Improvement and IT (Charity) ...\n",
       "20481    Sins Sie ein deutschsprachiger Sales Manager? ...\n",
       "20482    Automotive, Motor Trade Job: Car Sales Control...\n",
       "20483    experienced sales person required to sell new ...\n",
       "20484    Tutor Part Time Cardiff Up to **** per annum (...\n",
       "20485    Apple Sales Public Sector Account Manager, sou...\n",
       "20486    Automotive, Motor Trade Job: Car Sales Control...\n",
       "20487    My client is looking for a Business Partner Co...\n",
       "20488    Our client is currently recruiting for an expe...\n",
       "20489    Project Manager  (Agile, .NET, Software, Integ...\n",
       "20490    An exciting opportunity has arisen to join our...\n",
       "20491    Lecturer: Functional skills  Maths (Teacher, T...\n",
       "20492    Branch Manager  Industrial / Commercial / Driv...\n",
       "20493    School of Professional Practice, Faculty of He...\n",
       "20494    Production Planner (Engineering / Assembly Env...\n",
       "20495    My client is looking for Following a successfu...\n",
       "20496    The world's leading international security sol...\n",
       "20497    The world's leading international security sol...\n",
       "20498    Messaging Support Analyst, ETL, Java, Scheduli...\n",
       "20499    Help us achieve a world in which all deafblind...\n",
       "20500    Company Commercial Secretary  **** year Matern...\n",
       "Name: FullDescription, Length: 20501, dtype: object"
      ]
     },
     "execution_count": 63,
     "metadata": {},
     "output_type": "execute_result"
    }
   ],
   "source": [
    "text_train"
   ]
  },
  {
   "cell_type": "code",
   "execution_count": 64,
   "metadata": {},
   "outputs": [
    {
     "data": {
      "text/plain": [
       "244268    Manual Machinist (Turning) Coventry **** to **...\n",
       "244269    Procurement Planning Manager: A Procurement Pl...\n",
       "244270    Job Title: Press Toolmaker Location: Coventry ...\n",
       "244271    Assembly Technician / ElectroMechanical Fitter...\n",
       "244272    Embedded Software Engineer – West Midlands  **...\n",
       "244273    My client is currently on the lookout for a me...\n",
       "244274    A leading international law firm is seeking a ...\n",
       "244275    Leading Global Oil Services Company requires a...\n",
       "244276    Senior Sales Consultant  Banking/Capital Marke...\n",
       "244277    Business Analyst  ****  **** per day  3 months...\n",
       "244278    Senior / Team Lead Java Developer REF **** Ede...\n",
       "244279    As a Channel Sales professional working for a ...\n",
       "244280    I have a **** year fixed rate contract open wi...\n",
       "244281    An excellent opportunity to become the Head of...\n",
       "244282    Position Big Data Scientist Location London Ty...\n",
       "244283    We currently have a vacancy for a CAD Technici...\n",
       "244284    IT Programme Delivery Manager Up to ****k  ben...\n",
       "244285    Investment in the infrastructure of the UK is ...\n",
       "244286    An excellent opportunity has arisen for a Nava...\n",
       "244287    Dynamics AX Retail Consultant  c****k  UK Wide...\n",
       "244288    An opportunity has arisen to work within a maj...\n",
       "244289    Senior Business Analyst: Senior Business Analy...\n",
       "244290    HR Onboarding Contracts Manager  up to ****K A...\n",
       "244291    A marketleading media company require a Lead O...\n",
       "244292    MI Manager  Data Warehouse  SAS/Business Objec...\n",
       "244293    Modis are working in partnership with a global...\n",
       "244294    Area Business Manager Location: Field Based Ro...\n",
       "244295    SENIOR PHP DEVELOPER  AGILE  API S  CMS  DIGIT...\n",
       "244296    We have a long term contract based in Gaydon, ...\n",
       "244297    Project Managers South East UK experienced Pro...\n",
       "                                ...                        \n",
       "244738    NEED PAYROLLERS WITH ESR WHO HAVE WORKED AT PR...\n",
       "244739    Commercial Account Manager Role An opportunity...\n",
       "244740    At DMC Healthcare we believe the delivery of e...\n",
       "244741    My retail client are currently recruiting for ...\n",
       "244742    LEGAL CASHIER JOB. A top Legal firm based in C...\n",
       "244743    A prestigious chambers (Law firm) in the City ...\n",
       "244744    Are you an experienced senior business travel ...\n",
       "244745    Full and parttime opportunities available With...\n",
       "244746    Salaried GP needed in Essex, 4 days per week. ...\n",
       "244747    Are you a Travel Consultant who is truly passi...\n",
       "244748    Travel Consultants, we have an amazing opportu...\n",
       "244749    PERSONAL TRAVEL EXPERT Location  Birmingham Sa...\n",
       "244750    Are you an experienced Senior Business Travel ...\n",
       "244751    A vibrant charitable institute based in Kensin...\n",
       "244752    Curriculum Leader Mathematics TLR 1 **** Requi...\n",
       "244753    Position: Qualified Teacher Subject/Specialism...\n",
       "244754    Marketing Officer Job Use a broad range of Mar...\n",
       "244755    Position: Qualified Teacher Subject/Specialism...\n",
       "244756    Position: Cover Supervisor Subject/Specialism:...\n",
       "244757    Position: Qualified Teacher Subject/Specialism...\n",
       "244758    Position: Qualified Teacher Subject/Specialism...\n",
       "244759    Position: Qualified Teacher Subject/Specialism...\n",
       "244760    Position: Teacher Subject/Specialism: History ...\n",
       "244761    Position: Qualified Teacher Subject/Specialism...\n",
       "244762    Position: Qualified Teacher Subject/Specialism...\n",
       "244763    Position: Qualified Teacher Subject/Specialism...\n",
       "244764    Position: Qualified Teacher or NQT Subject/Spe...\n",
       "244765    Position: Qualified Teacher Subject/Specialism...\n",
       "244766    Position: Qualified Teacher Subject/Specialism...\n",
       "244767    This entrepreneurial and growing private equit...\n",
       "Name: FullDescription, Length: 500, dtype: object"
      ]
     },
     "execution_count": 64,
     "metadata": {},
     "output_type": "execute_result"
    }
   ],
   "source": [
    "text_val"
   ]
  },
  {
   "cell_type": "markdown",
   "metadata": {},
   "source": [
    "A continuación, se realiza el preprocesamiento de los datos, basado en el código de la pregunta 1 resuelta en clases"
   ]
  },
  {
   "cell_type": "code",
   "execution_count": 14,
   "metadata": {},
   "outputs": [],
   "source": [
    "import seaborn as sns"
   ]
  },
  {
   "cell_type": "code",
   "execution_count": 15,
   "metadata": {},
   "outputs": [],
   "source": [
    "import numpy as np"
   ]
  },
  {
   "cell_type": "code",
   "execution_count": 16,
   "metadata": {},
   "outputs": [
    {
     "name": "stdout",
     "output_type": "stream",
     "text": [
      "[nltk_data] Downloading package stopwords to\n",
      "[nltk_data]     C:\\Users\\Matu\\AppData\\Roaming\\nltk_data...\n",
      "[nltk_data]   Package stopwords is already up-to-date!\n"
     ]
    }
   ],
   "source": [
    "import nltk\n",
    "nltk.download('stopwords')\n",
    "import re, time\n",
    "from nltk.corpus import stopwords\n",
    "from nltk import WordNetLemmatizer, word_tokenize\n",
    "from nltk.stem.porter import PorterStemmer"
   ]
  },
  {
   "cell_type": "code",
   "execution_count": 17,
   "metadata": {},
   "outputs": [
    {
     "name": "stdout",
     "output_type": "stream",
     "text": [
      "[nltk_data] Downloading package punkt to\n",
      "[nltk_data]     C:\\Users\\Matu\\AppData\\Roaming\\nltk_data...\n",
      "[nltk_data]   Package punkt is already up-to-date!\n",
      "[nltk_data] Downloading package wordnet to\n",
      "[nltk_data]     C:\\Users\\Matu\\AppData\\Roaming\\nltk_data...\n",
      "[nltk_data]   Package wordnet is already up-to-date!\n"
     ]
    },
    {
     "data": {
      "text/plain": [
       "True"
      ]
     },
     "execution_count": 17,
     "metadata": {},
     "output_type": "execute_result"
    }
   ],
   "source": [
    "nltk.download('punkt')\n",
    "nltk.download('wordnet')"
   ]
  },
  {
   "cell_type": "code",
   "execution_count": 18,
   "metadata": {},
   "outputs": [],
   "source": [
    "def word_extractor1(text):\n",
    "    wordlemmatizer = WordNetLemmatizer()\n",
    "    commonwords = stopwords.words('english')\n",
    "    text = re.sub(r'([a-z])\\1+', r'\\1\\1',text)#substitute multiple letter by two\n",
    "    words = \"\"\n",
    "    wordtokens = [ wordlemmatizer.lemmatize(word.lower())for word in word_tokenize(text) ]\n",
    "    for word in wordtokens:\n",
    "        if word not in commonwords:\n",
    "            words+=\" \"+word\n",
    "    return words\n",
    "\n",
    "def word_extractor2(text):\n",
    "    wordstemmer = PorterStemmer()\n",
    "    commonwords = stopwords.words('english')\n",
    "    text = re.sub(r'([a-z])\\1+', r'\\1\\1',text)#substitute multiple letter by two\n",
    "    words = \"\"\n",
    "    wordtokens = [ wordstemmer.stem(word.lower())for word in word_tokenize(text) ]\n",
    "    for word in wordtokens:\n",
    "        if word not in commonwords:\n",
    "            words+=\" \"+word\n",
    "    return words"
   ]
  },
  {
   "cell_type": "code",
   "execution_count": 19,
   "metadata": {},
   "outputs": [],
   "source": [
    "from sklearn.feature_extraction.text import CountVectorizer\n",
    "\n",
    "texts_train1 = [word_extractor1(text) for text in text_train]\n",
    "texts_val1 = [word_extractor1(text) for text in text_val]\n",
    "\n",
    "vectorizer1 = CountVectorizer(ngram_range=(1, 1), binary='False')\n",
    "vectorizer1.fit(np.asarray(texts_train1))\n",
    "\n",
    "features_train1 = vectorizer1.transform(texts_train1)\n",
    "features_val1 = vectorizer1.transform(texts_val1)\n",
    "\n",
    "texts_train2 = [word_extractor2(text) for text in text_train]\n",
    "texts_val2 = [word_extractor2(text) for text in text_val]\n",
    "\n",
    "vectorizer2 = CountVectorizer(ngram_range=(1, 1), binary='False')\n",
    "vectorizer2.fit(np.asarray(texts_train2))\n",
    "\n",
    "features_train2 = vectorizer2.transform(texts_train2)\n",
    "features_val2 = vectorizer2.transform(texts_val2)"
   ]
  },
  {
   "cell_type": "code",
   "execution_count": 20,
   "metadata": {},
   "outputs": [
    {
     "data": {
      "text/plain": [
       "' engineering system analyst dorking surrey salary ****k client located dorking , surrey looking engineering system analyst client provides specialist software development keywords mathematical modelling , risk analysis , system modelling , optimisation , miser , pioneeer engineering system analyst dorking surrey salary ****k'"
      ]
     },
     "execution_count": 20,
     "metadata": {},
     "output_type": "execute_result"
    }
   ],
   "source": [
    "texts_train1[0] #Ejemplo"
   ]
  },
  {
   "cell_type": "code",
   "execution_count": 72,
   "metadata": {},
   "outputs": [
    {
     "name": "stdout",
     "output_type": "stream",
     "text": [
      "  (0, 2470)\t1\n",
      "  (0, 2483)\t1\n",
      "  (0, 7607)\t1\n",
      "  (0, 10754)\t1\n",
      "  (0, 11505)\t1\n",
      "  (0, 12729)\t1\n",
      "  (0, 20251)\t1\n",
      "  (0, 21505)\t1\n",
      "  (0, 21646)\t1\n",
      "  (0, 22557)\t1\n",
      "  (0, 23481)\t1\n",
      "  (0, 23600)\t1\n",
      "  (0, 26177)\t1\n",
      "  (0, 27713)\t1\n",
      "  (0, 29275)\t1\n",
      "  (0, 31604)\t1\n",
      "  (0, 32229)\t1\n",
      "  (0, 34165)\t1\n",
      "  (0, 34501)\t1\n",
      "  (0, 35763)\t1\n",
      "  (0, 35993)\t1\n",
      "  (1, 1773)\t1\n",
      "  (1, 1842)\t1\n",
      "  (1, 1844)\t1\n",
      "  (1, 1846)\t1\n",
      "  :\t:\n",
      "  (20500, 21059)\t1\n",
      "  (20500, 22147)\t1\n",
      "  (20500, 22553)\t1\n",
      "  (20500, 24178)\t1\n",
      "  (20500, 26925)\t1\n",
      "  (20500, 27897)\t1\n",
      "  (20500, 28648)\t1\n",
      "  (20500, 29934)\t1\n",
      "  (20500, 30998)\t1\n",
      "  (20500, 31764)\t1\n",
      "  (20500, 32754)\t1\n",
      "  (20500, 32757)\t1\n",
      "  (20500, 32806)\t1\n",
      "  (20500, 32986)\t1\n",
      "  (20500, 35706)\t1\n",
      "  (20500, 36216)\t1\n",
      "  (20500, 36848)\t1\n",
      "  (20500, 37973)\t1\n",
      "  (20500, 39869)\t1\n",
      "  (20500, 40061)\t1\n",
      "  (20500, 40181)\t1\n",
      "  (20500, 40192)\t1\n",
      "  (20500, 40211)\t1\n",
      "  (20500, 40351)\t1\n",
      "  (20500, 40535)\t1\n"
     ]
    }
   ],
   "source": [
    "print(features_train1)"
   ]
  },
  {
   "cell_type": "code",
   "execution_count": 73,
   "metadata": {},
   "outputs": [
    {
     "data": {
      "text/plain": [
       "CountVectorizer(analyzer='word', binary='False', decode_error='strict',\n",
       "        dtype=<class 'numpy.int64'>, encoding='utf-8', input='content',\n",
       "        lowercase=True, max_df=1.0, max_features=None, min_df=1,\n",
       "        ngram_range=(1, 1), preprocessor=None, stop_words=None,\n",
       "        strip_accents=None, token_pattern='(?u)\\\\b\\\\w\\\\w+\\\\b',\n",
       "        tokenizer=None, vocabulary=None)"
      ]
     },
     "execution_count": 73,
     "metadata": {},
     "output_type": "execute_result"
    }
   ],
   "source": [
    "vectorizer1"
   ]
  },
  {
   "cell_type": "code",
   "execution_count": 13,
   "metadata": {},
   "outputs": [
    {
     "ename": "NameError",
     "evalue": "name 'vectorizer1' is not defined",
     "output_type": "error",
     "traceback": [
      "\u001b[1;31m---------------------------------------------------------------------------\u001b[0m",
      "\u001b[1;31mNameError\u001b[0m                                 Traceback (most recent call last)",
      "\u001b[1;32m<ipython-input-13-7a43ea9ba404>\u001b[0m in \u001b[0;36m<module>\u001b[1;34m()\u001b[0m\n\u001b[1;32m----> 1\u001b[1;33m \u001b[0mvocab\u001b[0m \u001b[1;33m=\u001b[0m \u001b[0mvectorizer1\u001b[0m\u001b[1;33m.\u001b[0m\u001b[0mget_feature_names\u001b[0m\u001b[1;33m(\u001b[0m\u001b[1;33m)\u001b[0m\u001b[1;33m\u001b[0m\u001b[0m\n\u001b[0m\u001b[0;32m      2\u001b[0m \u001b[0mdist\u001b[0m\u001b[1;33m=\u001b[0m\u001b[0mlist\u001b[0m\u001b[1;33m(\u001b[0m\u001b[0mnp\u001b[0m\u001b[1;33m.\u001b[0m\u001b[0marray\u001b[0m\u001b[1;33m(\u001b[0m\u001b[0mfeatures_train1\u001b[0m\u001b[1;33m.\u001b[0m\u001b[0msum\u001b[0m\u001b[1;33m(\u001b[0m\u001b[0maxis\u001b[0m\u001b[1;33m=\u001b[0m\u001b[1;36m0\u001b[0m\u001b[1;33m)\u001b[0m\u001b[1;33m)\u001b[0m\u001b[1;33m.\u001b[0m\u001b[0mreshape\u001b[0m\u001b[1;33m(\u001b[0m\u001b[1;33m-\u001b[0m\u001b[1;36m1\u001b[0m\u001b[1;33m,\u001b[0m\u001b[1;33m)\u001b[0m\u001b[1;33m)\u001b[0m\u001b[1;33m\u001b[0m\u001b[0m\n\u001b[0;32m      3\u001b[0m \u001b[1;31m#for tag, count in zip(vocab, dist):\u001b[0m\u001b[1;33m\u001b[0m\u001b[1;33m\u001b[0m\u001b[0m\n\u001b[0;32m      4\u001b[0m  \u001b[1;31m#   print (count, tag)\u001b[0m\u001b[1;33m\u001b[0m\u001b[1;33m\u001b[0m\u001b[0m\n",
      "\u001b[1;31mNameError\u001b[0m: name 'vectorizer1' is not defined"
     ]
    }
   ],
   "source": [
    "vocab = vectorizer1.get_feature_names()\n",
    "dist=list(np.array(features_train1.sum(axis=0)).reshape(-1,))\n",
    "#for tag, count in zip(vocab, dist):\n",
    " #   print (count, tag)"
   ]
  },
  {
   "cell_type": "code",
   "execution_count": 75,
   "metadata": {},
   "outputs": [
    {
     "data": {
      "text/plain": [
       "40737"
      ]
     },
     "execution_count": 75,
     "metadata": {},
     "output_type": "execute_result"
    }
   ],
   "source": [
    "len(vocab)"
   ]
  },
  {
   "cell_type": "code",
   "execution_count": 76,
   "metadata": {},
   "outputs": [
    {
     "data": {
      "text/plain": [
       "<20501x40737 sparse matrix of type '<class 'numpy.int64'>'\n",
       "\twith 2132100 stored elements in Compressed Sparse Row format>"
      ]
     },
     "execution_count": 76,
     "metadata": {},
     "output_type": "execute_result"
    }
   ],
   "source": [
    "features_train1"
   ]
  },
  {
   "cell_type": "code",
   "execution_count": 77,
   "metadata": {},
   "outputs": [],
   "source": [
    "vocab = vectorizer1.get_feature_names()\n",
    "dist=list(np.array(features_train2.sum(axis=0)).reshape(-1,))\n",
    "lista = (vocab, dist)#Esta mal hecha la lista, hacer lista de tuplas\n",
    "lista_ordenada = lista"
   ]
  },
  {
   "cell_type": "code",
   "execution_count": 82,
   "metadata": {},
   "outputs": [
    {
     "name": "stdout",
     "output_type": "stream",
     "text": [
      "abercorn 5262\n",
      "abide 5188\n",
      "aker 5312\n",
      "andoid 8854\n",
      "andrea 7539\n",
      "appending 5045\n",
      "authoritative 7142\n",
      "bakewell 5175\n",
      "brake 8766\n",
      "brother 9039\n",
      "chair 10618\n",
      "chyflogaeth 7117\n",
      "cilex 7922\n",
      "clubhouse 5704\n",
      "confirm 5989\n",
      "consider 6738\n",
      "cooks 5421\n",
      "cs19 8940\n",
      "diogelwch 5310\n",
      "dispenser 5694\n",
      "distributive 5828\n",
      "doundation 5381\n",
      "duggansearch 8775\n",
      "ea 15463\n",
      "essentialvirtualization 5164\n",
      "faade 5296\n",
      "fieldbased 5388\n",
      "founded 5361\n",
      "ggc 5602\n",
      "gracing 8717\n",
      "groupon 5060\n",
      "hmpyoi 6778\n",
      "homecaremedacs 6503\n",
      "idoc 5419\n",
      "incorporation 6562\n",
      "infochasemedical 6113\n",
      "interschool 9298\n",
      "jackrabbit 10591\n",
      "linuxadministratordevopsleadingmobileapplicionscompany_job 7497\n",
      "louisea 6318\n",
      "lydall 5793\n",
      "mckinty 6229\n",
      "methodolgy 9761\n",
      "moran 5071\n",
      "neonate 10954\n",
      "nicetohave 6598\n",
      "ohave 9175\n",
      "paas 8414\n",
      "pdr 11458\n",
      "perfformiad 7871\n",
      "pkcs 12207\n",
      "postgresql 6724\n",
      "programmeexcellent 8608\n",
      "qtls 10423\n",
      "residentialbased 7901\n",
      "resulting 7635\n",
      "rollins 11675\n",
      "sara 14972\n",
      "schedule 6199\n",
      "selfesteem 5833\n",
      "shawcarecleaningservices 8165\n",
      "storyboarding 10088\n",
      "string 16682\n",
      "supermarket 5082\n"
     ]
    },
    {
     "ename": "IndexError",
     "evalue": "list index out of range",
     "output_type": "error",
     "traceback": [
      "\u001b[1;31m---------------------------------------------------------------------------\u001b[0m",
      "\u001b[1;31mIndexError\u001b[0m                                Traceback (most recent call last)",
      "\u001b[1;32m<ipython-input-82-0e71865e55fc>\u001b[0m in \u001b[0;36m<module>\u001b[1;34m()\u001b[0m\n\u001b[0;32m      1\u001b[0m \u001b[1;32mfor\u001b[0m \u001b[0mi\u001b[0m \u001b[1;32min\u001b[0m \u001b[0mrange\u001b[0m\u001b[1;33m(\u001b[0m\u001b[0mlen\u001b[0m\u001b[1;33m(\u001b[0m\u001b[0mlista_ordenada\u001b[0m\u001b[1;33m[\u001b[0m\u001b[1;36m0\u001b[0m\u001b[1;33m]\u001b[0m\u001b[1;33m)\u001b[0m\u001b[1;33m-\u001b[0m\u001b[1;36m2\u001b[0m\u001b[1;33m)\u001b[0m\u001b[1;33m:\u001b[0m\u001b[1;33m\u001b[0m\u001b[0m\n\u001b[1;32m----> 2\u001b[1;33m     \u001b[1;32mif\u001b[0m \u001b[0mlista_ordenada\u001b[0m\u001b[1;33m[\u001b[0m\u001b[1;36m1\u001b[0m\u001b[1;33m]\u001b[0m\u001b[1;33m[\u001b[0m\u001b[0mi\u001b[0m\u001b[1;33m]\u001b[0m\u001b[1;33m>\u001b[0m\u001b[1;36m5000\u001b[0m\u001b[1;33m:\u001b[0m\u001b[1;33m\u001b[0m\u001b[0m\n\u001b[0m\u001b[0;32m      3\u001b[0m         \u001b[0mprint\u001b[0m\u001b[1;33m(\u001b[0m\u001b[0mlista_ordenada\u001b[0m\u001b[1;33m[\u001b[0m\u001b[1;36m0\u001b[0m\u001b[1;33m]\u001b[0m\u001b[1;33m[\u001b[0m\u001b[0mi\u001b[0m\u001b[1;33m]\u001b[0m\u001b[1;33m,\u001b[0m\u001b[0mlista_ordenada\u001b[0m\u001b[1;33m[\u001b[0m\u001b[1;36m1\u001b[0m\u001b[1;33m]\u001b[0m\u001b[1;33m[\u001b[0m\u001b[0mi\u001b[0m\u001b[1;33m]\u001b[0m\u001b[1;33m)\u001b[0m\u001b[1;31m#Me las ingenié\u001b[0m\u001b[1;33m\u001b[0m\u001b[0m\n",
      "\u001b[1;31mIndexError\u001b[0m: list index out of range"
     ]
    }
   ],
   "source": [
    "for i in range(len(lista_ordenada[0])-2):\n",
    "    if lista_ordenada[1][i]>5000:\n",
    "        print(lista_ordenada[0][i],lista_ordenada[1][i])#Me las ingenié"
   ]
  },
  {
   "cell_type": "code",
   "execution_count": 2,
   "metadata": {},
   "outputs": [
    {
     "ename": "NameError",
     "evalue": "name 'vectorizer2' is not defined",
     "output_type": "error",
     "traceback": [
      "\u001b[1;31m---------------------------------------------------------------------------\u001b[0m",
      "\u001b[1;31mNameError\u001b[0m                                 Traceback (most recent call last)",
      "\u001b[1;32m<ipython-input-2-e2960493df1e>\u001b[0m in \u001b[0;36m<module>\u001b[1;34m()\u001b[0m\n\u001b[1;32m----> 1\u001b[1;33m \u001b[0mvocab\u001b[0m \u001b[1;33m=\u001b[0m \u001b[0mvectorizer2\u001b[0m\u001b[1;33m.\u001b[0m\u001b[0mget_feature_names\u001b[0m\u001b[1;33m(\u001b[0m\u001b[1;33m)\u001b[0m\u001b[1;33m\u001b[0m\u001b[0m\n\u001b[0m\u001b[0;32m      2\u001b[0m \u001b[0mdist\u001b[0m\u001b[1;33m=\u001b[0m\u001b[0mlist\u001b[0m\u001b[1;33m(\u001b[0m\u001b[0mnp\u001b[0m\u001b[1;33m.\u001b[0m\u001b[0marray\u001b[0m\u001b[1;33m(\u001b[0m\u001b[0mfeatures_train2\u001b[0m\u001b[1;33m.\u001b[0m\u001b[0msum\u001b[0m\u001b[1;33m(\u001b[0m\u001b[0maxis\u001b[0m\u001b[1;33m=\u001b[0m\u001b[1;36m0\u001b[0m\u001b[1;33m)\u001b[0m\u001b[1;33m)\u001b[0m\u001b[1;33m.\u001b[0m\u001b[0mreshape\u001b[0m\u001b[1;33m(\u001b[0m\u001b[1;33m-\u001b[0m\u001b[1;36m1\u001b[0m\u001b[1;33m,\u001b[0m\u001b[1;33m)\u001b[0m\u001b[1;33m)\u001b[0m\u001b[1;33m\u001b[0m\u001b[0m\n\u001b[0;32m      3\u001b[0m \u001b[1;31m#for tag, count in zip(vocab, dist):\u001b[0m\u001b[1;33m\u001b[0m\u001b[1;33m\u001b[0m\u001b[0m\n\u001b[0;32m      4\u001b[0m  \u001b[1;31m#   print (count, tag)\u001b[0m\u001b[1;33m\u001b[0m\u001b[1;33m\u001b[0m\u001b[0m\n",
      "\u001b[1;31mNameError\u001b[0m: name 'vectorizer2' is not defined"
     ]
    }
   ],
   "source": [
    "vocab = vectorizer2.get_feature_names()\n",
    "dist=list(np.array(features_train2.sum(axis=0)).reshape(-1,))\n",
    "#for tag, count in zip(vocab, dist):\n",
    " #   print (count, tag)"
   ]
  },
  {
   "cell_type": "code",
   "execution_count": 27,
   "metadata": {},
   "outputs": [
    {
     "data": {
      "text/plain": [
       "3706"
      ]
     },
     "execution_count": 27,
     "metadata": {},
     "output_type": "execute_result"
    }
   ],
   "source": [
    "len(vocab)"
   ]
  },
  {
   "cell_type": "code",
   "execution_count": 37,
   "metadata": {},
   "outputs": [
    {
     "data": {
      "text/plain": [
       "<1x3706 sparse matrix of type '<class 'numpy.int64'>'\n",
       "\twith 21 stored elements in Compressed Sparse Row format>"
      ]
     },
     "execution_count": 37,
     "metadata": {},
     "output_type": "execute_result"
    }
   ],
   "source": [
    "features_train2"
   ]
  },
  {
   "cell_type": "code",
   "execution_count": 29,
   "metadata": {},
   "outputs": [],
   "source": [
    "vocab = vectorizer2.get_feature_names()\n",
    "dist=list(np.array(features_train2.sum(axis=0)).reshape(-1,))\n",
    "lista = (vocab, dist)\n",
    "#lista.sort(key=lambda x: x[1],reverse=True)\n",
    "lista_ordenada = lista"
   ]
  },
  {
   "cell_type": "code",
   "execution_count": 31,
   "metadata": {
    "scrolled": true
   },
   "outputs": [
    {
     "name": "stdout",
     "output_type": "stream",
     "text": [
      "appli 247\n",
      "area 201\n",
      "care 286\n",
      "client 248\n",
      "experi 362\n",
      "job 326\n",
      "look 282\n",
      "offer 221\n",
      "opportun 212\n",
      "pleas 260\n",
      "provid 243\n",
      "recruit 233\n",
      "requir 254\n",
      "role 228\n",
      "support 232\n",
      "team 263\n",
      "thi 277\n",
      "train 223\n",
      "within 289\n",
      "work 401\n"
     ]
    }
   ],
   "source": [
    "for i in range(len(lista_ordenada[0])-1):\n",
    "    if lista_ordenada[1][i]>200:\n",
    "        print(lista_ordenada[0][i],lista_ordenada[1][i])#Me las ingenié"
   ]
  },
  {
   "cell_type": "markdown",
   "metadata": {},
   "source": [
    "En la celda anterior se muestran las palabras más frecuentes de cada representación generada"
   ]
  },
  {
   "cell_type": "markdown",
   "metadata": {},
   "source": [
    "#### d) Intente resolver el problema enfrentándolo como regresión con el modelo de regresión lineal ordinaria en *sklearn*. ¿Qué es lo que hace *fit_intercept=True*? Evalúe la función objetivo (F.O.) utilizada y la métrica de la competencia (*mean absolute error*) en ambos conjuntos generados en el punto a). Comente lo observado."
   ]
  },
  {
   "cell_type": "code",
   "execution_count": 21,
   "metadata": {},
   "outputs": [
    {
     "name": "stdout",
     "output_type": "stream",
     "text": [
      " engineering system analyst dorking surrey salary ****k client located dorking , surrey looking engineering system analyst client provides specialist software development keywords mathematical modelling , risk analysis , system modelling , optimisation , miser , pioneeer engineering system analyst dorking surrey salary ****k 25000\n"
     ]
    },
    {
     "ename": "NameError",
     "evalue": "name 'model' is not defined",
     "output_type": "error",
     "traceback": [
      "\u001b[1;31m---------------------------------------------------------------------------\u001b[0m",
      "\u001b[1;31mNameError\u001b[0m                                 Traceback (most recent call last)",
      "\u001b[1;32m<ipython-input-21-e4ee6184b0d3>\u001b[0m in \u001b[0;36m<module>\u001b[1;34m()\u001b[0m\n\u001b[0;32m      4\u001b[0m     \u001b[0mX_train\u001b[0m\u001b[1;33m=\u001b[0m\u001b[0mtexts_train1\u001b[0m\u001b[1;33m[\u001b[0m\u001b[0mi\u001b[0m\u001b[1;33m]\u001b[0m\u001b[1;33m\u001b[0m\u001b[0m\n\u001b[0;32m      5\u001b[0m     \u001b[0my_train\u001b[0m\u001b[1;33m=\u001b[0m\u001b[0msalary_train\u001b[0m\u001b[1;33m[\u001b[0m\u001b[0mi\u001b[0m\u001b[1;33m]\u001b[0m\u001b[1;33m\u001b[0m\u001b[0m\n\u001b[1;32m----> 6\u001b[1;33m     \u001b[0mmodel\u001b[0m\u001b[1;33m.\u001b[0m\u001b[0mfit\u001b[0m\u001b[1;33m(\u001b[0m\u001b[0mX_train\u001b[0m\u001b[1;33m,\u001b[0m\u001b[0my_train\u001b[0m\u001b[1;33m)\u001b[0m\u001b[1;33m\u001b[0m\u001b[0m\n\u001b[0m",
      "\u001b[1;31mNameError\u001b[0m: name 'model' is not defined"
     ]
    }
   ],
   "source": [
    "#De aqui en adelante se utilizará la primera función (de las dos disponibles) para el preprocesamiento de los datos\n",
    "print(texts_train1[0],salary_train[0])\n",
    "for i in range(len(salary_train)-1):\n",
    "    X_train=texts_train1[i]\n",
    "    y_train=salary_train[i]\n",
    "    model.fit(X_train,y_train)"
   ]
  },
  {
   "cell_type": "code",
   "execution_count": 83,
   "metadata": {},
   "outputs": [
    {
     "name": "stdout",
     "output_type": "stream",
     "text": [
      "MAE on train:  75.85024136349291\n",
      "MAE on validation:  137354.52200696507\n"
     ]
    }
   ],
   "source": [
    "from sklearn.linear_model import LinearRegression as LR\n",
    "model = LR(fit_intercept=True, normalize=False)\n",
    "\n",
    "X_train=features_train1\n",
    "y_train=salary_train\n",
    "\n",
    "X_val=features_val1\n",
    "y_val=salary_val\n",
    "\n",
    "model.fit(X_train,y_train)\n",
    "\n",
    "... #measure F.O.\n",
    "\n",
    "from sklearn.metrics import mean_absolute_error #measure MAE\n",
    "print(\"MAE on train: \",mean_absolute_error(y_train, model.predict(X_train)))\n",
    "print(\"MAE on validation: \",mean_absolute_error(y_val, model.predict(X_val)))"
   ]
  },
  {
   "cell_type": "markdown",
   "metadata": {},
   "source": [
    "#### e) Intente mejorar sus resultados en base a la métrica de la competencia (MAE) sobre el conjunto de validación. Comente sobre lo realizado.  *No se le pide que imite los resultados ganadores de la competencia (MAE de 3400), sino que mejore lo ya alcanzado siendo creativo.*\n",
    "<div class=\"alert alert-warning\"> HINT: Una opción es cambiar el *approach* de resolución desde regresión a casificación o trabajo sobre los datos (tal como limpiarlos).</div>"
   ]
  },
  {
   "cell_type": "markdown",
   "metadata": {},
   "source": [
    "Hacer una mejor limpieza de los datos, es decir en el preprocesamiento comparar las palabras obtenidas despues de aplicar la función de lemmatizer con algun diccionario de palabras que se relacionen con el problema de modo que se quiten de los datos las palabras que no tienen sentido alguno.  \n",
    "Otra forma de mejorar el problema es cambiar el enfoque en el que se esta tratando como por ejemplo ver el problema como un problema de vecino mas cercano mas que una regresión lineal donde se pierde información en la caracterización de las palabras.  \n",
    "Otra forma de mejorar la resolución del problema es mediante el uso de distribuciones de probabilidad en las palabras de modo que el peso que se le asignan a las palabras este dado por la probabilidad de que esa palabra tenga cierta salario.  \n"
   ]
  },
  {
   "cell_type": "code",
   "execution_count": null,
   "metadata": {},
   "outputs": [],
   "source": []
  }
 ],
 "metadata": {
  "kernelspec": {
   "display_name": "Python 3",
   "language": "python",
   "name": "python3"
  },
  "language_info": {
   "codemirror_mode": {
    "name": "ipython",
    "version": 3
   },
   "file_extension": ".py",
   "mimetype": "text/x-python",
   "name": "python",
   "nbconvert_exporter": "python",
   "pygments_lexer": "ipython3",
   "version": "3.6.5"
  }
 },
 "nbformat": 4,
 "nbformat_minor": 2
}
